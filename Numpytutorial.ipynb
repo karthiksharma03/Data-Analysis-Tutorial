{
 "cells": [
  {
   "cell_type": "markdown",
   "id": "5e906076",
   "metadata": {},
   "source": [
    "#                                              Numpy Tutorial "
   ]
  },
  {
   "cell_type": "markdown",
   "id": "eca30cbe",
   "metadata": {},
   "source": [
    "**This is the Tut where i have covered and Learned all the concepts of the numpy maximum Which are useful for the Data Analysis\n",
    "for the mathemeatical Concepts Learning **"
   ]
  },
  {
   "cell_type": "code",
   "execution_count": 2,
   "id": "7bf07305",
   "metadata": {},
   "outputs": [],
   "source": [
    "#so Here We have Imported the Numpy Library here so that we can perform and use the functions which are there in numpy.\n",
    "#Here numpy is the library so to use this library in an easy way we have given np alias numpy\n",
    "\n",
    "import numpy as np"
   ]
  },
  {
   "cell_type": "code",
   "execution_count": 11,
   "id": "885d4f7f",
   "metadata": {},
   "outputs": [
    {
     "name": "stdout",
     "output_type": "stream",
     "text": [
      "[1 2 3 4]\n"
     ]
    }
   ],
   "source": [
    "#Here We have Created an Numpy One Dimensional Arrray and printed that Array !!!!\n",
    "\n",
    "a=np.array([1,2,3,4])\n",
    "print(a)"
   ]
  },
  {
   "cell_type": "code",
   "execution_count": 7,
   "id": "0bef2274",
   "metadata": {},
   "outputs": [
    {
     "name": "stdout",
     "output_type": "stream",
     "text": [
      "1\n",
      "2\n",
      "[3 4]\n"
     ]
    }
   ],
   "source": [
    "#Now Let us Accesss the elements of the array\n",
    "element1=a[0]\n",
    "element2=a[1]\n",
    "remaining_elements=a[2:]\n",
    "print(element1)\n",
    "print(element2)\n",
    "print(remaining_elements)\n",
    "\n",
    "#So here above we have created some variabes for each elements in the array and allocated the values in those variables for acessing the elements"
   ]
  },
  {
   "cell_type": "code",
   "execution_count": 13,
   "id": "4a236d18",
   "metadata": {},
   "outputs": [
    {
     "name": "stdout",
     "output_type": "stream",
     "text": [
      "(4,)\n"
     ]
    }
   ],
   "source": [
    "#So this is the shape function which is used to find the dimensionality of the given numpy arrays \n",
    "# if the given array is of One Dimensional then the  shape of the arrays is --> The number of elements present in it\n",
    "print(a.shape)"
   ]
  },
  {
   "cell_type": "code",
   "execution_count": 14,
   "id": "887a9ca3",
   "metadata": {},
   "outputs": [
    {
     "name": "stdout",
     "output_type": "stream",
     "text": [
      "int32\n"
     ]
    }
   ],
   "source": [
    "#This will be printing the data type of the given array !!! \n",
    "print(a.dtype)"
   ]
  },
  {
   "cell_type": "markdown",
   "id": "261268fc",
   "metadata": {},
   "source": [
    "# Creation Of the Numpy Arrays In Different Ways "
   ]
  },
  {
   "cell_type": "markdown",
   "id": "a147c502",
   "metadata": {},
   "source": [
    "**1) Conversion From Other Python Structures**"
   ]
  },
  {
   "cell_type": "code",
   "execution_count": 15,
   "id": "107f5019",
   "metadata": {},
   "outputs": [
    {
     "name": "stdout",
     "output_type": "stream",
     "text": [
      "[1 2 3 4 5]\n"
     ]
    }
   ],
   "source": [
    "#so here we have created the numpy one dimensional array using lists concept \n",
    "list_array=np.array([1,2,3,4,5])\n",
    "print(list_array)"
   ]
  },
  {
   "cell_type": "code",
   "execution_count": 16,
   "id": "f471c963",
   "metadata": {},
   "outputs": [
    {
     "name": "stdout",
     "output_type": "stream",
     "text": [
      "[1 5 6 7]\n"
     ]
    }
   ],
   "source": [
    "#so here we have created the numpy arrays using the tuple concepts \n",
    "tuple_array=np.array((1,5,6,7))\n",
    "print(tuple_array)"
   ]
  },
  {
   "cell_type": "markdown",
   "id": "0a2bf758",
   "metadata": {},
   "source": [
    "**2)Intersinc numpy array creation objects**"
   ]
  },
  {
   "cell_type": "code",
   "execution_count": 20,
   "id": "67ccde78",
   "metadata": {},
   "outputs": [
    {
     "name": "stdout",
     "output_type": "stream",
     "text": [
      "[[0. 0. 0. 0.]\n",
      " [0. 0. 0. 0.]\n",
      " [0. 0. 0. 0.]\n",
      " [0. 0. 0. 0.]]\n"
     ]
    }
   ],
   "source": [
    "#So here we will be creating the numpy arrays using some inbuilt functions like (arange ,ones,zeros)\n",
    "\n",
    "# 1) Filling all the elements in the arrays with zeros using the numpy zeros \n",
    "b=np.zeros((4,4))\n",
    "print(b)"
   ]
  },
  {
   "cell_type": "code",
   "execution_count": 23,
   "id": "d1f4bbcf",
   "metadata": {},
   "outputs": [
    {
     "name": "stdout",
     "output_type": "stream",
     "text": [
      "[[1. 1. 1. 1. 1.]\n",
      " [1. 1. 1. 1. 1.]\n",
      " [1. 1. 1. 1. 1.]\n",
      " [1. 1. 1. 1. 1.]\n",
      " [1. 1. 1. 1. 1.]]\n"
     ]
    }
   ],
   "source": [
    "#2) Filling all the elements in the arrays with ones using the numpy ones\n",
    "c=np.ones((5,5))\n",
    "print(c)"
   ]
  },
  {
   "cell_type": "code",
   "execution_count": 26,
   "id": "8a06a65f",
   "metadata": {},
   "outputs": [
    {
     "name": "stdout",
     "output_type": "stream",
     "text": [
      "[0 1 2 3 4]\n"
     ]
    }
   ],
   "source": [
    "#Using the arange Function to create the array \n",
    "\n",
    "#So here This is this is the range function which is used to create the range of values from a starting point to the ending point\n",
    "#With a step difference between the consecutive numbers \n",
    "#Step difference means the difference between  i+1^th and i^th number \n",
    "\n",
    "# Syntax is : (starting_point,endingpoint,step_difference)\n",
    "z=np.arange(0,5,1)\n",
    "print(z)"
   ]
  },
  {
   "cell_type": "code",
   "execution_count": 31,
   "id": "29aa4035",
   "metadata": {},
   "outputs": [
    {
     "name": "stdout",
     "output_type": "stream",
     "text": [
      "[[0. 0. 0. 0.]\n",
      " [0. 0. 0. 0.]\n",
      " [0. 0. 0. 0.]\n",
      " [0. 0. 0. 0.]]\n"
     ]
    }
   ],
   "source": [
    "#Here now we can also create an empty numpy array using the empty function in numpy !!!\n",
    "emp=np.empty((4,4))\n",
    "print(emp)"
   ]
  },
  {
   "cell_type": "code",
   "execution_count": 30,
   "id": "4fe52a29",
   "metadata": {},
   "outputs": [
    {
     "name": "stdout",
     "output_type": "stream",
     "text": [
      "[1.         1.66666667 2.33333333 3.         3.66666667 4.33333333\n",
      " 5.         5.66666667 6.33333333 7.        ]\n"
     ]
    }
   ],
   "source": [
    "#Linspace function is also there which is used to create the array but with in a range it creates a random equal setp difference\n",
    "#elements and display them\n",
    "\n",
    "x=np.linspace(1,7,10)\n",
    "print(x)\n",
    "\n",
    "#so it has created 10 elements between the elements 1 to 7 with equal step difference between elements "
   ]
  },
  {
   "cell_type": "code",
   "execution_count": 35,
   "id": "14a31d5a",
   "metadata": {},
   "outputs": [
    {
     "name": "stdout",
     "output_type": "stream",
     "text": [
      "[1 2 3 4 5 6 7 8]\n"
     ]
    }
   ],
   "source": [
    "# Now Let us perform the reshape function and test its procedure\n",
    "\n",
    "k=np.arange(1,9)\n",
    "print(k)"
   ]
  },
  {
   "cell_type": "code",
   "execution_count": 42,
   "id": "0a060301",
   "metadata": {},
   "outputs": [],
   "source": [
    "#Here We are basically testing the reshape function \n",
    "#Note the product of the row and column should not be greater than the size of the elements \n",
    "\n",
    "k=k.reshape(4,2)"
   ]
  },
  {
   "cell_type": "code",
   "execution_count": 46,
   "id": "9f6882ef",
   "metadata": {},
   "outputs": [
    {
     "name": "stdout",
     "output_type": "stream",
     "text": [
      "[[1 2]\n",
      " [3 4]\n",
      " [5 6]\n",
      " [7 8]]\n",
      "\n",
      "The number if elements are : 8\n"
     ]
    }
   ],
   "source": [
    "print(k)\n",
    "print(\"\")\n",
    "\n",
    "# Printing the Numeber of the elements present in the array \n",
    "print(\"The number if elements are :\",k.size)"
   ]
  },
  {
   "cell_type": "code",
   "execution_count": 48,
   "id": "ae8d8081",
   "metadata": {},
   "outputs": [
    {
     "name": "stdout",
     "output_type": "stream",
     "text": [
      "[1 2 3 4 5 6 7 8]\n"
     ]
    }
   ],
   "source": [
    "#So here Ravel() is the function which is used to convert any dimensional array into proper one dimensional array \n",
    "\n",
    "k=k.ravel()\n",
    "print(k)"
   ]
  },
  {
   "cell_type": "markdown",
   "id": "be23a53c",
   "metadata": {},
   "source": [
    "**-->Axis Concept**"
   ]
  },
  {
   "cell_type": "raw",
   "id": "b9f16417",
   "metadata": {},
   "source": [
    "**So here We are going to discuss about the concept called axis which are helpful \n",
    "\n",
    "When the array is of the two dimensional \n",
    "[1,2,3]\n",
    "[4,5,6]\n",
    "[7,8,9]\n",
    "\n",
    "so here the rows can be considered having the axis --> 0 (axis=0) for the rows ..\n",
    "so, here the columns can be considered having the axis vaue -->1  (axis=1) for columns....\n",
    "\n",
    "Example let us calculate the sum for all the axis =0 and axis=1 in below example 2D array\n",
    "\n",
    "**"
   ]
  },
  {
   "cell_type": "code",
   "execution_count": 51,
   "id": "13ff1f36",
   "metadata": {},
   "outputs": [],
   "source": [
    "# so here we are creating the two dimensional list which has the 3x3 values can be known as 3 rows and 3 columns \n",
    "s=[[1,2,3],[4,5,6],[7,8,9]]"
   ]
  },
  {
   "cell_type": "code",
   "execution_count": 52,
   "id": "3898b508",
   "metadata": {},
   "outputs": [
    {
     "name": "stdout",
     "output_type": "stream",
     "text": [
      "[[1 2 3]\n",
      " [4 5 6]\n",
      " [7 8 9]]\n"
     ]
    }
   ],
   "source": [
    "#Here we are passing the list into the arrays where that array later will be called as the 2D vector .....\n",
    "\n",
    "arr=np.array(s)\n",
    "print(arr)"
   ]
  },
  {
   "cell_type": "code",
   "execution_count": 60,
   "id": "dcc57e3d",
   "metadata": {},
   "outputs": [
    {
     "name": "stdout",
     "output_type": "stream",
     "text": [
      "[12 15 18]\n"
     ]
    }
   ],
   "source": [
    "\"\"\"\n",
    "Axis 0: Refers to rows. When performing operations along axis 0  we aggregate data column-wise.\n",
    "Axis 1: Refers to columns. When performing operations along axis 1 we aggregate data row-wise.\n",
    "\n",
    "Axis 0 aggregates across rows (affecting columns)\n",
    "Axis 1 aggregates across columns (affecting rows)\n",
    "\n",
    "\n",
    "\"\"\"\n",
    "\n",
    "total=arr.sum(axis=0)\n",
    "print(total)"
   ]
  },
  {
   "cell_type": "code",
   "execution_count": 61,
   "id": "5c85516e",
   "metadata": {},
   "outputs": [
    {
     "name": "stdout",
     "output_type": "stream",
     "text": [
      "[ 6 15 24]\n"
     ]
    }
   ],
   "source": [
    "tot=arr.sum(axis=1)\n",
    "print(tot)"
   ]
  },
  {
   "cell_type": "markdown",
   "id": "05bb7391",
   "metadata": {},
   "source": [
    "**Important Attributes**"
   ]
  },
  {
   "cell_type": "code",
   "execution_count": 62,
   "id": "f1186779",
   "metadata": {},
   "outputs": [
    {
     "name": "stdout",
     "output_type": "stream",
     "text": [
      "[[1 4 7]\n",
      " [2 5 8]\n",
      " [3 6 9]]\n"
     ]
    }
   ],
   "source": [
    "#Here we re transposing a matrix which converts a row into the column as we have learned in the mathematics Transpose means inverseing\n",
    "\n",
    "transpose=arr.T\n",
    "print(transpose)"
   ]
  },
  {
   "cell_type": "code",
   "execution_count": 65,
   "id": "643947d0",
   "metadata": {},
   "outputs": [
    {
     "name": "stdout",
     "output_type": "stream",
     "text": [
      "1\n",
      "2\n",
      "3\n",
      "4\n",
      "5\n",
      "6\n",
      "7\n",
      "8\n",
      "9\n"
     ]
    }
   ],
   "source": [
    "# Now lets is Create A falt To travers through the array \n",
    "\n",
    "# in simple words we have used flat and created an iterator which can traverse the array with the help of loop\n",
    "\n",
    "flag=arr.flat\n",
    "\n",
    "for item in flag:\n",
    "    print(item)"
   ]
  },
  {
   "cell_type": "code",
   "execution_count": 68,
   "id": "40ed81a6",
   "metadata": {},
   "outputs": [
    {
     "name": "stdout",
     "output_type": "stream",
     "text": [
      "The Dimensions of the arr array is : 2\n"
     ]
    }
   ],
   "source": [
    "# The usage of the ndim function for finding the dimensions \n",
    "\n",
    "print(\"The Dimensions of the arr array is :\",arr.ndim)"
   ]
  },
  {
   "cell_type": "code",
   "execution_count": 69,
   "id": "42c9bc47",
   "metadata": {},
   "outputs": [
    {
     "name": "stdout",
     "output_type": "stream",
     "text": [
      "int32\n"
     ]
    }
   ],
   "source": [
    "# The dtype attribute which is used to find which data type has been stored in the array \n",
    "print(arr.dtype)"
   ]
  },
  {
   "cell_type": "code",
   "execution_count": 70,
   "id": "daec317c",
   "metadata": {},
   "outputs": [
    {
     "name": "stdout",
     "output_type": "stream",
     "text": [
      "(3, 3)\n"
     ]
    }
   ],
   "source": [
    "#this is used to find the shape of the array which gives the number of rows and columns present in the array \n",
    "print(arr.shape)"
   ]
  },
  {
   "cell_type": "code",
   "execution_count": 71,
   "id": "a678a09f",
   "metadata": {},
   "outputs": [
    {
     "name": "stdout",
     "output_type": "stream",
     "text": [
      "9\n"
     ]
    }
   ],
   "source": [
    "#This is used to find the size of the array that means number of elements \n",
    "print(arr.size)"
   ]
  },
  {
   "cell_type": "markdown",
   "id": "495e33b4",
   "metadata": {},
   "source": [
    "**In Built Functions Used in the Numpy **"
   ]
  },
  {
   "cell_type": "code",
   "execution_count": 74,
   "id": "5f148919",
   "metadata": {},
   "outputs": [
    {
     "name": "stdout",
     "output_type": "stream",
     "text": [
      "The index of the maximum element in the array is : 8\n"
     ]
    }
   ],
   "source": [
    "#This is the function called argmax which is used to find the maximum element in the array and return its index\n",
    "maxi=arr.argmax()\n",
    "\n",
    "print(\"The index of the maximum element in the array is :\",maxi)"
   ]
  },
  {
   "cell_type": "code",
   "execution_count": 75,
   "id": "8030070f",
   "metadata": {},
   "outputs": [
    {
     "name": "stdout",
     "output_type": "stream",
     "text": [
      "The index of the minimum element in the array is : 0\n"
     ]
    }
   ],
   "source": [
    "#This is the function called argmax which is used to find the minimum element in the array and return its index\n",
    "minii=arr.argmin()\n",
    "\n",
    "print(\"The index of the minimum element in the array is :\",minii)"
   ]
  },
  {
   "cell_type": "code",
   "execution_count": 76,
   "id": "3573b77b",
   "metadata": {},
   "outputs": [
    {
     "name": "stdout",
     "output_type": "stream",
     "text": [
      "[[0 1 2]\n",
      " [0 1 2]\n",
      " [0 1 2]]\n"
     ]
    }
   ],
   "source": [
    "#This function is used to return the indices that would sort the array.\n",
    "print(arr.argsort())"
   ]
  },
  {
   "cell_type": "code",
   "execution_count": 81,
   "id": "400bbf64",
   "metadata": {},
   "outputs": [
    {
     "name": "stdout",
     "output_type": "stream",
     "text": [
      "[[1 2 3]\n",
      " [4 5 6]\n",
      " [7 8 9]]\n"
     ]
    }
   ],
   "source": [
    "#Check this array for the below operations ....\n",
    "\n",
    "print(arr)"
   ]
  },
  {
   "cell_type": "code",
   "execution_count": 84,
   "id": "7a009ff5",
   "metadata": {},
   "outputs": [
    {
     "name": "stdout",
     "output_type": "stream",
     "text": [
      "The maximum elements in the  Columns are : [2 2 2]\n",
      "The maximum elements in the rows are : [2 2 2]\n",
      "The Minumum elements in the columns are : [0 0 0]\n",
      "The Minumum elements in the rows are : [0 0 0]\n"
     ]
    }
   ],
   "source": [
    "\"\"\"\n",
    "Using the Axis Concept in the Functions \n",
    "as we already know the axis concepts we are just combining them with the functions \n",
    "\n",
    "\"\"\"\n",
    "print(\"The maximum elements in the  Columns are :\",arr.argmax(axis=0))\n",
    "print(\"The maximum elements in the rows are :\",arr.argmax(axis=1))\n",
    "print(\"The Minumum elements in the columns are :\",arr.argmin(axis=0))\n",
    "print(\"The Minumum elements in the rows are :\",arr.argmin(axis=1))\n"
   ]
  },
  {
   "cell_type": "markdown",
   "id": "69898119",
   "metadata": {},
   "source": [
    "\n",
    "**Mathematical Operations and functions on the array**"
   ]
  },
  {
   "cell_type": "code",
   "execution_count": 88,
   "id": "502553e5",
   "metadata": {},
   "outputs": [],
   "source": [
    "arr2=np.array([[5,6,7],[10,15,17],[1,6,4]])"
   ]
  },
  {
   "cell_type": "code",
   "execution_count": 94,
   "id": "d04eba79",
   "metadata": {},
   "outputs": [
    {
     "name": "stdout",
     "output_type": "stream",
     "text": [
      "[[1 2 3]\n",
      " [4 5 6]\n",
      " [7 8 9]]\n"
     ]
    }
   ],
   "source": [
    "print(arr)"
   ]
  },
  {
   "cell_type": "code",
   "execution_count": 89,
   "id": "96bbfc6e",
   "metadata": {},
   "outputs": [
    {
     "name": "stdout",
     "output_type": "stream",
     "text": [
      "[[ 5  6  7]\n",
      " [10 15 17]\n",
      " [ 1  6  4]]\n"
     ]
    }
   ],
   "source": [
    "print(arr2)"
   ]
  },
  {
   "cell_type": "code",
   "execution_count": 90,
   "id": "499b8240",
   "metadata": {},
   "outputs": [
    {
     "name": "stdout",
     "output_type": "stream",
     "text": [
      "[[17 21 25]\n",
      " [22 30 35]\n",
      " [13 21 22]]\n"
     ]
    }
   ],
   "source": [
    "#This is used to perform the addition operation between the two arrays \n",
    "print(sum(arr,arr2))"
   ]
  },
  {
   "cell_type": "code",
   "execution_count": 91,
   "id": "80353706",
   "metadata": {},
   "outputs": [
    {
     "name": "stdout",
     "output_type": "stream",
     "text": [
      "[[ -4  -4  -4]\n",
      " [ -6 -10 -11]\n",
      " [  6   2   5]]\n"
     ]
    }
   ],
   "source": [
    "#There are also some functions like multiplication subraction and division \n",
    "print(arr-arr2)"
   ]
  },
  {
   "cell_type": "code",
   "execution_count": 92,
   "id": "8bb73701",
   "metadata": {},
   "outputs": [
    {
     "name": "stdout",
     "output_type": "stream",
     "text": [
      "[[  5  12  21]\n",
      " [ 40  75 102]\n",
      " [  7  48  36]]\n"
     ]
    }
   ],
   "source": [
    "print(arr*arr2)"
   ]
  },
  {
   "cell_type": "code",
   "execution_count": 93,
   "id": "acbbba36",
   "metadata": {},
   "outputs": [
    {
     "name": "stdout",
     "output_type": "stream",
     "text": [
      "[[0.2        0.33333333 0.42857143]\n",
      " [0.4        0.33333333 0.35294118]\n",
      " [7.         1.33333333 2.25      ]]\n"
     ]
    }
   ],
   "source": [
    "print(arr/arr2)"
   ]
  },
  {
   "cell_type": "code",
   "execution_count": 96,
   "id": "e4c865ce",
   "metadata": {},
   "outputs": [
    {
     "name": "stdout",
     "output_type": "stream",
     "text": [
      "[[1.         1.41421356 1.73205081]\n",
      " [2.         2.23606798 2.44948974]\n",
      " [2.64575131 2.82842712 3.        ]]\n"
     ]
    }
   ],
   "source": [
    "#This is the square root function which is present in the numpy arrays which is used to get the square root of the elements of\n",
    "#the array \n",
    "\n",
    "print(np.sqrt(arr))"
   ]
  },
  {
   "cell_type": "code",
   "execution_count": 99,
   "id": "0becb901",
   "metadata": {},
   "outputs": [
    {
     "name": "stdout",
     "output_type": "stream",
     "text": [
      "(array([1, 2, 2, 2], dtype=int64), array([2, 0, 1, 2], dtype=int64))\n",
      "No of non zero elements present in the array: 9\n"
     ]
    }
   ],
   "source": [
    "\"\"\"\n",
    "Some Stastical and other functions of the numpy arrays \n",
    "\n",
    "\"\"\"\n",
    "\n",
    "print(np.where(arr>5))#This function returns the value greater than 5\n",
    "print(\"No of non zero elements present in the array:\",np.count_nonzero(arr))#Gives the non zero elements in the array "
   ]
  },
  {
   "cell_type": "code",
   "execution_count": 102,
   "id": "422d850e",
   "metadata": {},
   "outputs": [
    {
     "name": "stdout",
     "output_type": "stream",
     "text": [
      "The median of the array is  5.0\n"
     ]
    }
   ],
   "source": [
    "#Some Stastical Functions used in numpy arrays\n",
    "\n",
    "print(\"The median of the array is \",np.median(arr)) #median Function which calculates the median of the given array"
   ]
  },
  {
   "cell_type": "code",
   "execution_count": 104,
   "id": "51fcebd0",
   "metadata": {},
   "outputs": [
    {
     "name": "stdout",
     "output_type": "stream",
     "text": [
      "[[1.         1.         1.         1.         0.97072534 0.59603956]\n",
      " [1.         1.         1.         1.         0.97072534 0.59603956]\n",
      " [1.         1.         1.         1.         0.97072534 0.59603956]\n",
      " [1.         1.         1.         1.         0.97072534 0.59603956]\n",
      " [0.97072534 0.97072534 0.97072534 0.97072534 1.         0.77145428]\n",
      " [0.59603956 0.59603956 0.59603956 0.59603956 0.77145428 1.        ]]\n"
     ]
    }
   ],
   "source": [
    "#corelation coefficent  function calculations\n",
    "\n",
    "\"\"\"\n",
    "This corelation coefficent can be defined as the relationship between two variables wich may be intended to be positive ,negative\n",
    "and zero\n",
    "\n",
    "\"\"\"\n",
    "\n",
    "#The corelation coefficents of the array \n",
    "print(np.corrcoef(arr,arr2))"
   ]
  },
  {
   "cell_type": "code",
   "execution_count": null,
   "id": "c04d9a18",
   "metadata": {},
   "outputs": [],
   "source": []
  }
 ],
 "metadata": {
  "kernelspec": {
   "display_name": "Python 3 (ipykernel)",
   "language": "python",
   "name": "python3"
  },
  "language_info": {
   "codemirror_mode": {
    "name": "ipython",
    "version": 3
   },
   "file_extension": ".py",
   "mimetype": "text/x-python",
   "name": "python",
   "nbconvert_exporter": "python",
   "pygments_lexer": "ipython3",
   "version": "3.10.9"
  }
 },
 "nbformat": 4,
 "nbformat_minor": 5
}
